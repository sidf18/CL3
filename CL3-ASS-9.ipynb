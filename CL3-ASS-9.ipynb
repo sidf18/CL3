{
 "cells": [
  {
   "cell_type": "code",
   "execution_count": null,
   "id": "7d366b29-2746-45d1-bc31-2d0ba6974477",
   "metadata": {},
   "outputs": [],
   "source": [
    "'''CL3-ASS-9: "
   ]
  },
  {
   "cell_type": "code",
   "execution_count": 1,
   "id": "25fb66f0-f7e0-44ac-b70f-cb13ffbfc9a2",
   "metadata": {},
   "outputs": [
    {
     "name": "stdout",
     "output_type": "stream",
     "text": [
      "Collecting mrjob\n",
      "  Downloading mrjob-0.7.4-py2.py3-none-any.whl.metadata (7.3 kB)\n",
      "Requirement already satisfied: PyYAML>=3.10 in c:\\users\\hp\\appdata\\local\\programs\\python\\python312\\lib\\site-packages (from mrjob) (6.0.1)\n",
      "Downloading mrjob-0.7.4-py2.py3-none-any.whl (439 kB)\n",
      "Installing collected packages: mrjob\n",
      "Successfully installed mrjob-0.7.4\n",
      "Note: you may need to restart the kernel to use updated packages.\n"
     ]
    },
    {
     "name": "stderr",
     "output_type": "stream",
     "text": [
      "\n",
      "[notice] A new release of pip is available: 24.3.1 -> 25.1\n",
      "[notice] To update, run: python.exe -m pip install --upgrade pip\n"
     ]
    }
   ],
   "source": [
    "pip install mrjob\n"
   ]
  },
  {
   "cell_type": "code",
   "execution_count": 3,
   "id": "457d253b-99b3-46ec-a7d9-921734aeaa30",
   "metadata": {},
   "outputs": [
    {
     "name": "stdout",
     "output_type": "stream",
     "text": [
      "Average temperature per year:\n",
      "2020: 24.90°C\n",
      "2019: 27.05°C\n",
      "2021: 22.75°C\n",
      "\n",
      "Coolest Year: 2021 (22.75°C)\n",
      "Hottest Year: 2019 (27.05°C)\n"
     ]
    }
   ],
   "source": [
    "from collections import defaultdict\n",
    "\n",
    "# Sample data (you can replace this with data loaded from a file)\n",
    "data = [\n",
    "    \"2020,07,15,34.5\",\n",
    "    \"2020,12,21,15.3\",\n",
    "    \"2019,06,10,42.1\",\n",
    "    \"2019,12,01,12.0\",\n",
    "    \"2021,01,01,10.5\",\n",
    "    \"2021,07,01,35.0\"\n",
    "]\n",
    "\n",
    "# Step 1: Mapper - Group temperatures by year\n",
    "year_temps = defaultdict(list)\n",
    "\n",
    "for line in data:\n",
    "    try:\n",
    "        year, month, day, temp = line.strip().split(',')\n",
    "        year_temps[year].append(float(temp))\n",
    "    except ValueError:\n",
    "        continue  # skip malformed lines\n",
    "\n",
    "# Step 2: Reducer - Calculate average temperature per year\n",
    "year_avg_temp = {}\n",
    "for year, temps in year_temps.items():\n",
    "    avg_temp = sum(temps) / len(temps)\n",
    "    year_avg_temp[year] = avg_temp\n",
    "\n",
    "# Step 3: Find coolest or hottest year\n",
    "coolest_year = min(year_avg_temp, key=year_avg_temp.get)\n",
    "hottest_year = max(year_avg_temp, key=year_avg_temp.get)\n",
    "\n",
    "# Output\n",
    "print(\"Average temperature per year:\")\n",
    "for year, avg in year_avg_temp.items():\n",
    "    print(f\"{year}: {avg:.2f}°C\")\n",
    "\n",
    "print(f\"\\nCoolest Year: {coolest_year} ({year_avg_temp[coolest_year]:.2f}°C)\")\n",
    "print(f\"Hottest Year: {hottest_year} ({year_avg_temp[hottest_year]:.2f}°C)\")\n"
   ]
  },
  {
   "cell_type": "code",
   "execution_count": null,
   "id": "2ad39290-04b6-432a-853f-3fcc90eb6e2c",
   "metadata": {},
   "outputs": [],
   "source": []
  }
 ],
 "metadata": {
  "kernelspec": {
   "display_name": "Python 3 (ipykernel)",
   "language": "python",
   "name": "python3"
  },
  "language_info": {
   "codemirror_mode": {
    "name": "ipython",
    "version": 3
   },
   "file_extension": ".py",
   "mimetype": "text/x-python",
   "name": "python",
   "nbconvert_exporter": "python",
   "pygments_lexer": "ipython3",
   "version": "3.12.1"
  }
 },
 "nbformat": 4,
 "nbformat_minor": 5
}
