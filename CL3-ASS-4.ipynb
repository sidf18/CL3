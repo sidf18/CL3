{
 "cells": [
  {
   "cell_type": "code",
   "execution_count": 1,
   "id": "29cc99cd-57e0-4dbc-9591-096e3166556c",
   "metadata": {},
   "outputs": [
    {
     "data": {
      "text/plain": [
       "'CL3-ASS-4: Write code to simulate requests coming from clients and distribute them among the servers using the\\nload balancing algorithms.'"
      ]
     },
     "execution_count": 1,
     "metadata": {},
     "output_type": "execute_result"
    }
   ],
   "source": [
    "'''CL3-ASS-4: Write code to simulate requests coming from clients and distribute them among the servers using the\n",
    "load balancing algorithms.'''"
   ]
  },
  {
   "cell_type": "code",
   "execution_count": 2,
   "id": "b67bb477-0241-4e6f-b07d-7fa7b9ab3367",
   "metadata": {},
   "outputs": [
    {
     "name": "stdout",
     "output_type": "stream",
     "text": [
      "---- Round Robin ----\n",
      "Request 1 -> Server1 [Round Robin]\n",
      "Request 2 -> Server2 [Round Robin]\n",
      "Request 3 -> Server3 [Round Robin]\n",
      "Request 4 -> Server1 [Round Robin]\n",
      "Request 5 -> Server2 [Round Robin]\n",
      "Server1 (Connections: 2)\n",
      "Server2 (Connections: 2)\n",
      "Server3 (Connections: 1)\n",
      "\n",
      "---- Least Connections ----\n",
      "Request 6 -> Server3 [Least Connections]\n",
      "Request 7 -> Server1 [Least Connections]\n",
      "Request 8 -> Server2 [Least Connections]\n",
      "Request 9 -> Server3 [Least Connections]\n",
      "Request 10 -> Server1 [Least Connections]\n",
      "Server1 (Connections: 4)\n",
      "Server2 (Connections: 3)\n",
      "Server3 (Connections: 3)\n",
      "\n",
      "---- Random Selection ----\n",
      "Request 11 -> Server2 [Random]\n",
      "Request 12 -> Server3 [Random]\n",
      "Request 13 -> Server2 [Random]\n",
      "Request 14 -> Server1 [Random]\n",
      "Request 15 -> Server2 [Random]\n",
      "Server1 (Connections: 5)\n",
      "Server2 (Connections: 6)\n",
      "Server3 (Connections: 4)\n"
     ]
    }
   ],
   "source": [
    "import random\n",
    "\n",
    "# Define Server class\n",
    "class Server:\n",
    "    def __init__(self, name):\n",
    "        self.name = name\n",
    "        self.connections = 0\n",
    "\n",
    "    def handle_request(self):\n",
    "        self.connections += 1\n",
    "\n",
    "    def complete_request(self):\n",
    "        if self.connections > 0:\n",
    "            self.connections -= 1\n",
    "\n",
    "    def __str__(self):\n",
    "        return f\"{self.name} (Connections: {self.connections})\"\n",
    "\n",
    "# Load Balancer\n",
    "class LoadBalancer:\n",
    "    def __init__(self, servers):\n",
    "        self.servers = servers\n",
    "        self.index = 0\n",
    "\n",
    "    def round_robin(self, request_id):\n",
    "        server = self.servers[self.index]\n",
    "        server.handle_request()\n",
    "        print(f\"Request {request_id} -> {server.name} [Round Robin]\")\n",
    "        self.index = (self.index + 1) % len(self.servers)\n",
    "\n",
    "    def least_connections(self, request_id):\n",
    "        server = min(self.servers, key=lambda s: s.connections)\n",
    "        server.handle_request()\n",
    "        print(f\"Request {request_id} -> {server.name} [Least Connections]\")\n",
    "\n",
    "    def random_selection(self, request_id):\n",
    "        server = random.choice(self.servers)\n",
    "        server.handle_request()\n",
    "        print(f\"Request {request_id} -> {server.name} [Random]\")\n",
    "\n",
    "    def print_status(self):\n",
    "        for server in self.servers:\n",
    "            print(server)\n",
    "\n",
    "# Main function to simulate load balancing\n",
    "if __name__ == \"__main__\":\n",
    "    server_list = [Server(f\"Server{i}\") for i in range(1, 4)]\n",
    "    balancer = LoadBalancer(server_list)\n",
    "\n",
    "    print(\"---- Round Robin ----\")\n",
    "    for i in range(1, 6):\n",
    "        balancer.round_robin(i)\n",
    "    balancer.print_status()\n",
    "\n",
    "    print(\"\\n---- Least Connections ----\")\n",
    "    for i in range(6, 11):\n",
    "        balancer.least_connections(i)\n",
    "    balancer.print_status()\n",
    "\n",
    "    print(\"\\n---- Random Selection ----\")\n",
    "    for i in range(11, 16):\n",
    "        balancer.random_selection(i)\n",
    "    balancer.print_status()\n"
   ]
  },
  {
   "cell_type": "code",
   "execution_count": null,
   "id": "5f8676ba-ba55-4e32-95e2-f713ea5380ca",
   "metadata": {},
   "outputs": [],
   "source": []
  }
 ],
 "metadata": {
  "kernelspec": {
   "display_name": "Python 3 (ipykernel)",
   "language": "python",
   "name": "python3"
  },
  "language_info": {
   "codemirror_mode": {
    "name": "ipython",
    "version": 3
   },
   "file_extension": ".py",
   "mimetype": "text/x-python",
   "name": "python",
   "nbconvert_exporter": "python",
   "pygments_lexer": "ipython3",
   "version": "3.12.1"
  }
 },
 "nbformat": 4,
 "nbformat_minor": 5
}
