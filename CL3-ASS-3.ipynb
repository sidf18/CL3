{
 "cells": [
  {
   "cell_type": "code",
   "execution_count": null,
   "id": "7a410b38-9112-42d3-93f6-ac37075cc0dc",
   "metadata": {},
   "outputs": [],
   "source": [
    "'''CL3-ASS-3: Implement Union, Intersection, Complement and Difference operations on fuzzy sets. Also create\n",
    "fuzzy relations by Cartesian product of any two fuzzy sets and perform max-min composition on any\n",
    "two fuzzy relations.'''"
   ]
  },
  {
   "cell_type": "code",
   "execution_count": 1,
   "id": "56505ec4-271a-4048-87e3-61ed52d79888",
   "metadata": {},
   "outputs": [
    {
     "name": "stdout",
     "output_type": "stream",
     "text": [
      "Union: {'x1': 0.5, 'x3': 1.0, 'x2': 0.7}\n",
      "Intersection: {'x1': 0.2, 'x3': 0.9, 'x2': 0.4}\n",
      "Complement of A: {'x1': 0.8, 'x2': 0.30000000000000004, 'x3': 0.0}\n",
      "Difference A - B: {'x1': 0.2, 'x3': 0.09999999999999998, 'x2': 0.6}\n",
      "Fuzzy Relation R1 (A×B): {('x1', 'x1'): 0.2, ('x1', 'x2'): 0.2, ('x1', 'x3'): 0.2, ('x2', 'x1'): 0.5, ('x2', 'x2'): 0.4, ('x2', 'x3'): 0.7, ('x3', 'x1'): 0.5, ('x3', 'x2'): 0.4, ('x3', 'x3'): 0.9}\n",
      "Fuzzy Relation R2 (B×A): {('x1', 'x1'): 0.2, ('x1', 'x2'): 0.5, ('x1', 'x3'): 0.5, ('x2', 'x1'): 0.2, ('x2', 'x2'): 0.4, ('x2', 'x3'): 0.4, ('x3', 'x1'): 0.2, ('x3', 'x2'): 0.7, ('x3', 'x3'): 0.9}\n",
      "Max-Min Composition R1 ○ R2: {('x1', 'x1'): 0.2, ('x1', 'x3'): 0.2, ('x1', 'x2'): 0.2, ('x3', 'x1'): 0.2, ('x3', 'x3'): 0.9, ('x3', 'x2'): 0.7, ('x2', 'x1'): 0.2, ('x2', 'x3'): 0.7, ('x2', 'x2'): 0.7}\n"
     ]
    }
   ],
   "source": [
    "# Define fuzzy sets as dictionaries\n",
    "A = {'x1': 0.2, 'x2': 0.7, 'x3': 1.0}\n",
    "B = {'x1': 0.5, 'x2': 0.4, 'x3': 0.9}\n",
    "\n",
    "# Union\n",
    "def fuzzy_union(A, B):\n",
    "    return {x: max(A.get(x, 0), B.get(x, 0)) for x in set(A) | set(B)}\n",
    "\n",
    "# Intersection\n",
    "def fuzzy_intersection(A, B):\n",
    "    return {x: min(A.get(x, 0), B.get(x, 0)) for x in set(A) | set(B)}\n",
    "\n",
    "# Complement\n",
    "def fuzzy_complement(A):\n",
    "    return {x: 1 - A[x] for x in A}\n",
    "\n",
    "# Difference\n",
    "def fuzzy_difference(A, B):\n",
    "    return {x: min(A.get(x, 0), 1 - B.get(x, 0)) for x in set(A) | set(B)}\n",
    "\n",
    "# Cartesian product to form fuzzy relation\n",
    "def cartesian_product(A, B):\n",
    "    return { (a, b): min(A[a], B[b]) for a in A for b in B }\n",
    "\n",
    "# Max-min composition of two fuzzy relations R1: X×Y, R2: Y×Z\n",
    "def max_min_composition(R1, R2):\n",
    "    X = {x for (x, _) in R1}\n",
    "    Z = {z for (_, z) in R2}\n",
    "    Y = {y for (_, y) in R1} & {y for (y, _) in R2}\n",
    "    \n",
    "    result = {}\n",
    "    for x in X:\n",
    "        for z in Z:\n",
    "            values = [min(R1.get((x, y), 0), R2.get((y, z), 0)) for y in Y]\n",
    "            result[(x, z)] = max(values) if values else 0\n",
    "    return result\n",
    "\n",
    "# Example usage\n",
    "print(\"Union:\", fuzzy_union(A, B))\n",
    "print(\"Intersection:\", fuzzy_intersection(A, B))\n",
    "print(\"Complement of A:\", fuzzy_complement(A))\n",
    "print(\"Difference A - B:\", fuzzy_difference(A, B))\n",
    "\n",
    "R1 = cartesian_product(A, B)  # Relation from A × B\n",
    "R2 = cartesian_product(B, A)  # Relation from B × A\n",
    "\n",
    "print(\"Fuzzy Relation R1 (A×B):\", R1)\n",
    "print(\"Fuzzy Relation R2 (B×A):\", R2)\n",
    "print(\"Max-Min Composition R1 ○ R2:\", max_min_composition(R1, R2))\n"
   ]
  },
  {
   "cell_type": "code",
   "execution_count": null,
   "id": "6a5499fa-49c4-4ac0-874b-0c9cf84bc530",
   "metadata": {},
   "outputs": [],
   "source": []
  }
 ],
 "metadata": {
  "kernelspec": {
   "display_name": "Python 3 (ipykernel)",
   "language": "python",
   "name": "python3"
  },
  "language_info": {
   "codemirror_mode": {
    "name": "ipython",
    "version": 3
   },
   "file_extension": ".py",
   "mimetype": "text/x-python",
   "name": "python",
   "nbconvert_exporter": "python",
   "pygments_lexer": "ipython3",
   "version": "3.12.1"
  }
 },
 "nbformat": 4,
 "nbformat_minor": 5
}
