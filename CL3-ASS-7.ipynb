{
 "cells": [
  {
   "cell_type": "code",
   "execution_count": null,
   "id": "3a9aaead-f6d2-47d3-9ff7-5eec24c6aa47",
   "metadata": {},
   "outputs": [],
   "source": [
    "'''CL3-ASS-7: Implement DEAP (Distributed Evolutionary Algorithms) using Python '''"
   ]
  },
  {
   "cell_type": "code",
   "execution_count": 1,
   "id": "ccf63208-72f3-4afd-b207-05243475b5b4",
   "metadata": {},
   "outputs": [
    {
     "name": "stdout",
     "output_type": "stream",
     "text": [
      "Requirement already satisfied: deap in c:\\users\\hp\\appdata\\local\\programs\\python\\python312\\lib\\site-packages (1.4.2)\n",
      "Requirement already satisfied: numpy in c:\\users\\hp\\appdata\\local\\programs\\python\\python312\\lib\\site-packages (from deap) (1.26.4)\n",
      "Note: you may need to restart the kernel to use updated packages.\n"
     ]
    },
    {
     "name": "stderr",
     "output_type": "stream",
     "text": [
      "\n",
      "[notice] A new release of pip is available: 24.3.1 -> 25.1\n",
      "[notice] To update, run: python.exe -m pip install --upgrade pip\n"
     ]
    }
   ],
   "source": [
    "pip install deap"
   ]
  },
  {
   "cell_type": "code",
   "execution_count": 4,
   "id": "bd00490d-81f8-492c-bc10-83e587d3fefc",
   "metadata": {},
   "outputs": [
    {
     "name": "stdout",
     "output_type": "stream",
     "text": [
      "gen\tnevals\tavg    \tmin    \tmax    \n",
      "0  \t50    \t170.877\t78.1453\t298.728\n",
      "1  \t34    \t131.631\t57.4474\t284.563\n",
      "2  \t30    \t93.5014\t24.9891\t239.474\n",
      "3  \t29    \t70.1532\t14.7021\t179.651\n",
      "4  \t33    \t51.6773\t14.7021\t116.715\n",
      "5  \t27    \t37.0836\t12.8584\t123.96 \n",
      "6  \t28    \t24.4471\t12.7846\t64.507 \n",
      "7  \t30    \t18.2398\t9.94055\t46.2349\n",
      "8  \t34    \t15.4304\t8.10694\t29.532 \n",
      "9  \t26    \t14.0949\t8.10694\t31.833 \n",
      "10 \t29    \t12.4116\t1.80428\t25.4176\n",
      "11 \t29    \t9.76142\t1.31132\t26.2837\n",
      "12 \t30    \t6.30167\t0.950652\t16.8164\n",
      "13 \t28    \t5.31242\t0.950652\t28.3701\n",
      "14 \t24    \t2.92782\t0.950652\t20.612 \n",
      "15 \t35    \t2.19001\t0.588384\t20.9326\n",
      "16 \t31    \t1.95782\t0.673376\t20.2552\n",
      "17 \t33    \t2.68965\t0.315246\t22.0496\n",
      "18 \t36    \t1.26668\t0.314371\t14.9146\n",
      "19 \t28    \t1.2601 \t0.305726\t11.817 \n",
      "20 \t32    \t1.9735 \t0.201094\t29.6581\n",
      "21 \t27    \t1.43202\t0.201094\t26.8625\n",
      "22 \t26    \t0.76483\t0.201094\t9.0484 \n",
      "23 \t23    \t0.408419\t0.154402\t5.22518\n",
      "24 \t22    \t0.443105\t0.0857483\t4.01774\n",
      "25 \t30    \t0.589674\t0.0857483\t8.32656\n",
      "26 \t29    \t0.727407\t0.0857483\t21.1243\n",
      "27 \t35    \t1.03087 \t0.0686804\t23.1521\n",
      "28 \t26    \t1.6017  \t0.0686804\t40.471 \n",
      "29 \t32    \t1.74572 \t0.0445269\t25.8077\n",
      "30 \t30    \t0.917514\t0.0445269\t13.6124\n",
      "31 \t33    \t0.876126\t0.0357912\t15.8374\n",
      "32 \t35    \t0.642012\t0.0357912\t12.3601\n",
      "33 \t37    \t0.945041\t0.0321115\t18.2599\n",
      "34 \t29    \t0.296044\t0.0341375\t8.07879\n",
      "35 \t32    \t0.743073\t0.0328046\t8.51233\n",
      "36 \t32    \t0.306312\t0.0340876\t10.5636\n",
      "37 \t32    \t1.97117 \t0.0335246\t40.4025\n",
      "38 \t34    \t0.171886\t0.033489 \t6.25814\n",
      "39 \t34    \t0.914316\t0.0328809\t13.4684\n",
      "40 \t29    \t1.32538 \t0.0328809\t36.782 \n",
      "\n",
      "Best individual: [-0.012379116893063338, -0.08581622488005142, 0.025310008661499208, 0.15684111021898367, -0.011111743042289533]\n",
      "Best fitness: 0.0328808682143221\n"
     ]
    }
   ],
   "source": [
    "import random\n",
    "from deap import base, creator, tools, algorithms\n",
    "\n",
    "# Create DEAP classes safely\n",
    "if \"FitnessMin\" not in creator.__dict__:\n",
    "    creator.create(\"FitnessMin\", base.Fitness, weights=(-1.0,))\n",
    "if \"Individual\" not in creator.__dict__:\n",
    "    creator.create(\"Individual\", list, fitness=creator.FitnessMin)\n",
    "\n",
    "toolbox = base.Toolbox()\n",
    "\n",
    "# Parameters\n",
    "IND_SIZE = 5\n",
    "LOW, UP = -10, 10\n",
    "\n",
    "toolbox.register(\"attr_float\", random.uniform, LOW, UP)\n",
    "toolbox.register(\"individual\", tools.initRepeat, creator.Individual, toolbox.attr_float, IND_SIZE)\n",
    "toolbox.register(\"population\", tools.initRepeat, list, toolbox.individual)\n",
    "\n",
    "# Fitness function\n",
    "def evaluate(ind):\n",
    "    return sum(x**2 for x in ind),  # return as tuple\n",
    "\n",
    "# Register operators\n",
    "toolbox.register(\"evaluate\", evaluate)\n",
    "toolbox.register(\"mate\", tools.cxBlend, alpha=0.5)\n",
    "toolbox.register(\"mutate\", tools.mutGaussian, mu=0, sigma=2, indpb=0.2)\n",
    "toolbox.register(\"select\", tools.selTournament, tournsize=3)\n",
    "\n",
    "def main():\n",
    "    random.seed(42)\n",
    "    pop = toolbox.population(n=50)\n",
    "    NGEN = 40\n",
    "    CXPB = 0.5\n",
    "    MUTPB = 0.2\n",
    "\n",
    "    stats = tools.Statistics(lambda ind: ind.fitness.values[0])\n",
    "    stats.register(\"avg\", lambda fits: sum(fits) / len(fits))\n",
    "    stats.register(\"min\", min)\n",
    "    stats.register(\"max\", max)\n",
    "\n",
    "    pop, logbook = algorithms.eaSimple(pop, toolbox, cxpb=CXPB, mutpb=MUTPB,\n",
    "                                       ngen=NGEN, stats=stats, verbose=True)\n",
    "\n",
    "    best_ind = tools.selBest(pop, 1)[0]\n",
    "    print(\"\\nBest individual:\", best_ind)\n",
    "    print(\"Best fitness:\", best_ind.fitness.values[0])\n",
    "\n",
    "if __name__ == \"__main__\":\n",
    "    main()\n"
   ]
  },
  {
   "cell_type": "code",
   "execution_count": null,
   "id": "315a9972-0a29-4854-aefc-7b5a4b2955c0",
   "metadata": {},
   "outputs": [],
   "source": []
  }
 ],
 "metadata": {
  "kernelspec": {
   "display_name": "Python 3 (ipykernel)",
   "language": "python",
   "name": "python3"
  },
  "language_info": {
   "codemirror_mode": {
    "name": "ipython",
    "version": 3
   },
   "file_extension": ".py",
   "mimetype": "text/x-python",
   "name": "python",
   "nbconvert_exporter": "python",
   "pygments_lexer": "ipython3",
   "version": "3.12.1"
  }
 },
 "nbformat": 4,
 "nbformat_minor": 5
}
